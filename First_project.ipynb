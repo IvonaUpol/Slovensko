{
  "nbformat": 4,
  "nbformat_minor": 0,
  "metadata": {
    "colab": {
      "provenance": [],
      "authorship_tag": "ABX9TyOao3hgnmqlkikIoJ1v6xX1",
      "include_colab_link": true
    },
    "kernelspec": {
      "name": "python3",
      "display_name": "Python 3"
    },
    "language_info": {
      "name": "python"
    }
  },
  "cells": [
    {
      "cell_type": "markdown",
      "metadata": {
        "id": "view-in-github",
        "colab_type": "text"
      },
      "source": [
        "<a href=\"https://colab.research.google.com/github/IvonaUpol/Slovensko/blob/main/First_project.ipynb\" target=\"_parent\"><img src=\"https://colab.research.google.com/assets/colab-badge.svg\" alt=\"Open In Colab\"/></a>"
      ]
    },
    {
      "cell_type": "code",
      "execution_count": null,
      "metadata": {
        "id": "57REdUeYjrZ-"
      },
      "outputs": [],
      "source": []
    },
    {
      "cell_type": "markdown",
      "source": [
        "Nějaký **text**\n",
        "jdeme *zkoušet*, co to umí.\n",
        "\n",
        "1.   První seznam\n",
        "2.   Druhý seznam\n",
        "3. Třetí seznam\n",
        "4. Čtvrtý seznam\n",
        "\n",
        "---\n",
        "*   Položka seznamu\n",
        "*   Položka seznamu\n",
        "* položka\n",
        "* další položka\n",
        "---\n",
        "\n",
        "❌ taky toto\n",
        "\n",
        "❎ něco\n",
        "\n",
        "⛔ něco dalšího\n",
        "\n",
        "♒   a pak toto\n",
        "\n",
        "---\n",
        "\n",
        "> *Přidat blokovou citaci*\n",
        "\n",
        "> citace\n",
        "\n",
        "\n",
        "\n"
      ],
      "metadata": {
        "id": "BbYyCQ48Ea5-"
      }
    },
    {
      "cell_type": "markdown",
      "source": [],
      "metadata": {
        "id": "AzcdOZSvF7De"
      }
    },
    {
      "cell_type": "code",
      "source": [
        "# prompt: 10 random numbers using numpy (numbers are from 0 to 100)\n",
        "\n",
        "import numpy as np\n",
        "\n",
        "random_numbers = np.random.randint(0, 101, 10)\n",
        "print(random_numbers)\n"
      ],
      "metadata": {
        "id": "VZJociSlEpv8"
      },
      "execution_count": null,
      "outputs": []
    },
    {
      "cell_type": "code",
      "source": [
        "import matplotlib.pyplot as plt\n",
        "import matplotlib.patches as patches\n",
        "import random\n",
        "import numpy as np # Ensure numpy is imported\n",
        "\n",
        "def create_shape_picture(num_squares, num_rectangles):\n",
        "    \"\"\"\n",
        "    Creates a picture composed of squares and rectangles.\n",
        "\n",
        "    Args:\n",
        "        num_squares (int): The number of squares to draw.\n",
        "        num_rectangles (int): The number of rectangles to draw.\n",
        "    \"\"\"\n",
        "    fig, ax = plt.subplots(1)\n",
        "    ax.set_aspect('equal', adjustable='box')\n",
        "    ax.set_xlim(0, 10)  # Set arbitrary limits for the plot\n",
        "    ax.set_ylim(0, 10)\n",
        "    ax.axis('off') # Hide the axes\n",
        "\n",
        "    for _ in range(num_squares):\n",
        "        size = random.uniform(0.5, 2)  # Random size for squares\n",
        "        x = random.uniform(0, 10 - size)\n",
        "        y = random.uniform(0, 10 - size)\n",
        "        # Use np.random.rand for generating random color values\n",
        "        square = patches.Rectangle((x, y), size, size, linewidth=1, edgecolor='black', facecolor=np.random.rand(3,))\n",
        "        ax.add_patch(square)\n",
        "\n",
        "    for _ in range(num_rectangles):\n",
        "        width = random.uniform(0.5, 3)  # Random width for rectangles\n",
        "        height = random.uniform(0.5, 3) # Random height for rectangles\n",
        "        x = random.uniform(0, 10 - width)\n",
        "        y = random.uniform(0, 10 - height)\n",
        "        # Use np.random.rand for generating random color values\n",
        "        rectangle = patches.Rectangle((x, y), width, height, linewidth=1, edgecolor='black', facecolor=np.random.rand(3,))\n",
        "        ax.add_patch(rectangle)\n",
        "\n",
        "    plt.show()\n",
        "\n",
        "# Get user input\n",
        "try:\n",
        "    num_squares_input = int(input(\"Enter the number of squares you want to use: \"))\n",
        "    num_rectangles_input = int(input(\"Enter the number of rectangles you want to use: \"))\n",
        "\n",
        "    if num_squares_input < 0 or num_rectangles_input < 0:\n",
        "        print(\"Please enter non-negative numbers for the shapes.\")\n",
        "    else:\n",
        "        create_shape_picture(num_squares_input, num_rectangles_input)\n",
        "\n",
        "except ValueError:\n",
        "    print(\"Invalid input. Please enter integers for the number of shapes.\")"
      ],
      "metadata": {
        "id": "DB0VCa78GE2f"
      },
      "execution_count": null,
      "outputs": []
    },
    {
      "cell_type": "markdown",
      "source": [
        "Použití AI (LLM)"
      ],
      "metadata": {
        "id": "OCMGPEt9Ma0y"
      }
    },
    {
      "cell_type": "code",
      "source": [
        "# prompt: Vytvoř mi program, který se zeptá na mé jméno, pak věk. poté se zeptá ještě 2 krát a seřadí vložené údaje podle abecedy vzestupně podle jména.\n",
        "\n",
        "data = []\n",
        "for i in range(3):\n",
        "  name = input(\"Zadej jméno: \")\n",
        "  age = input(\"Zadej věk: \")\n",
        "  data.append({\"jméno\": name, \"věk\": age})\n",
        "\n",
        "sorted_data = sorted(data, key=lambda x: x[\"jméno\"])\n",
        "\n",
        "print(\"\\nSeřazené údaje:\")\n",
        "for entry in sorted_data:\n",
        "  print(f\"Jméno: {entry['jméno']}, Věk: {entry['věk']}\")\n"
      ],
      "metadata": {
        "id": "Rtp-WH_iMhZU"
      },
      "execution_count": null,
      "outputs": []
    },
    {
      "cell_type": "markdown",
      "source": [
        "$y=x^2$\n",
        "\n",
        "$e^{i\\pi} + 1 = 0$\n",
        "\n",
        "$e^x=\\sum_{i=0}^\\infty \\frac{1}{i!}x^i$\n",
        "\n",
        "$\\frac{n!}{k!(n-k)!} = {n \\choose k}$\n",
        "\n",
        "$A_{m,n} =\n",
        " \\begin{pmatrix}\n",
        "  a_{1,1} & a_{1,2} & \\cdots & a_{1,n} \\\\\n",
        "  a_{2,1} & a_{2,2} & \\cdots & a_{2,n} \\\\\n",
        "  \\vdots  & \\vdots  & \\ddots & \\vdots  \\\\\n",
        "  a_{m,1} & a_{m,2} & \\cdots & a_{m,n}\n",
        " \\end{pmatrix}$"
      ],
      "metadata": {
        "id": "_tSJgZcgmYa6"
      }
    },
    {
      "cell_type": "code",
      "source": [
        "x=3\n",
        "y=x**2\n",
        "print(y)"
      ],
      "metadata": {
        "id": "ZBCVKeDKmDUB"
      },
      "execution_count": null,
      "outputs": []
    },
    {
      "cell_type": "code",
      "source": [
        "# prompt: 10 random numbers using numpy (numbers are from 0 to 100)\n",
        "\n",
        "import numpy as np\n",
        "random_numbers = np.random.randint(0, 101, 10)\n",
        "random_numbers"
      ],
      "metadata": {
        "id": "IX6k51KRmXpq"
      },
      "execution_count": null,
      "outputs": []
    }
  ]
}